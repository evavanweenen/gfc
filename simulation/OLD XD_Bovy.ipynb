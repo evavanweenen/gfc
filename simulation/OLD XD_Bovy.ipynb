{
 "cells": [
  {
   "cell_type": "code",
   "execution_count": 1,
   "metadata": {
    "collapsed": false
   },
   "outputs": [],
   "source": [
    "import gfc\n",
    "from gfc import *\n",
    "import numpy as np\n",
    "import scipy as sp\n",
    "from scipy.stats import chi2\n",
    "import copy as cp\n",
    "from extreme_deconvolution import extreme_deconvolution as xd\n",
    "import matplotlib.pyplot as plt\n",
    "from matplotlib import rc\n",
    "from matplotlib import gridspec as gs\n",
    "from matplotlib.patches import Ellipse\n",
    "import matplotlib as mpl\n",
    "from mcmcplotting import convert_to_stdev_nan\n",
    "from astropy.table import Table\n",
    "from astropy import units as u\n",
    "from astropy.coordinates import Angle\n",
    "from pygaia.astrometry.vectorastrometry import phaseSpaceToAstrometry, astrometryToPhaseSpace, sphericalToCartesian, normalTriad\n",
    "from pygaia.astrometry.coordinates import CoordinateTransformation, Transformations\n",
    "from pygaia.astrometry import constants\n",
    "\n",
    "galtoicrs = CoordinateTransformation(Transformations.GAL2ICRS)\n",
    "icrstogal = CoordinateTransformation(Transformations.ICRS2GAL)\n",
    "\n",
    "rc('font',**{'family':'serif', 'serif':['Times']})\n",
    "rc('text', usetex=True)"
   ]
  },
  {
   "cell_type": "code",
   "execution_count": 2,
   "metadata": {
    "collapsed": true
   },
   "outputs": [],
   "source": [
    "root_folder = \"/disks/strw9/vanweenen/mrp1/results/simulation\"\n",
    "\n",
    "# Simulate a collection of stars distributed at constant space density around the sun, \n",
    "# with distances between 1 and 500 pc. Use Galactic coordinates. Each star is assigned\n",
    "# a 3D space velocity drawn from a superposition of several 3D normal distributions in \n",
    "# velocity space.\n",
    "rmin = 1. #pc\n",
    "rmax = 500. #pc\n",
    "N = 50000 #nr of stars\n",
    "\n",
    "r = np.random.uniform(rmin**3, rmax**3, N)**(1./3.) #pc\n",
    "theta = np.arccos(np.random.uniform(-1, 1, N))-np.pi/2\n",
    "phi = np.random.uniform(0, 2*np.pi, N)\n",
    "\n",
    "x_gal,y_gal,z_gal = sphericalToCartesian(r, phi, theta)"
   ]
  },
  {
   "cell_type": "code",
   "execution_count": 3,
   "metadata": {
    "collapsed": false,
    "scrolled": true
   },
   "outputs": [
    {
     "name": "stdout",
     "output_type": "stream",
     "text": [
      "10\n",
      "[0.23917608 0.22777722 0.22617738 0.08909109 0.08509149 0.06739326\n",
      " 0.03979602 0.01739826 0.00719928 0.00089991] [[   5.54   -6.97   -9.26]\n",
      " [ -22.72  -10.24   -7.3 ]\n",
      " [ -12.92  -29.57   -7.6 ]\n",
      " [ -19.43  -32.9    -4.93]\n",
      " [   9.2     3.89   -5.99]\n",
      " [ -17.79  -22.69   -4.51]\n",
      " [  -9.07  -20.5    -4.88]\n",
      " [ -40.07  -18.92    0.64]\n",
      " [ -28.28 -105.62    2.87]\n",
      " [   2.08 -103.07   -8.2 ]] [[[ 7.000e+02 -1.110e+02 -6.000e+01]\n",
      "  [-1.110e+02  2.000e+02  2.500e+01]\n",
      "  [-6.000e+01  2.500e+01  1.450e+02]]\n",
      "\n",
      " [[ 2.430e+02  7.000e+01  1.000e+01]\n",
      "  [ 7.000e+01  4.800e+01  1.000e+01]\n",
      "  [ 1.000e+01  1.000e+01  4.000e+01]]\n",
      "\n",
      " [[ 1.836e+03  5.500e+01 -6.000e+01]\n",
      "  [ 5.500e+01  6.700e+02 -3.000e+01]\n",
      "  [-6.000e+01 -3.000e+01  5.400e+02]]\n",
      "\n",
      " [[ 3.500e+02  1.650e+02  1.100e+02]\n",
      "  [ 1.650e+02  2.300e+02  1.100e+02]\n",
      "  [ 1.100e+02  1.100e+02  1.350e+02]]\n",
      "\n",
      " [[ 8.000e+01 -3.000e+01 -2.000e+01]\n",
      "  [-3.000e+01  2.500e+01  9.000e+00]\n",
      "  [-2.000e+01  9.000e+00  5.000e+01]]\n",
      "\n",
      " [[ 7.000e+01 -3.000e+01 -4.500e+01]\n",
      "  [-3.000e+01  1.800e+01  1.700e+01]\n",
      "  [-4.500e+01  1.700e+01  6.000e+01]]\n",
      "\n",
      " [[ 9.000e+00 -7.000e+00 -6.000e+00]\n",
      "  [-7.000e+00  1.300e+01  8.000e+00]\n",
      "  [-6.000e+00  8.000e+00  1.400e+01]]\n",
      "\n",
      " [[ 3.000e+01  2.000e-01  1.300e+01]\n",
      "  [ 2.000e-01  6.000e-01  2.000e-01]\n",
      "  [ 1.300e+01  2.000e-01  6.000e+00]]\n",
      "\n",
      " [[ 4.600e+03 -2.400e+03 -3.300e+02]\n",
      "  [-2.400e+03  4.500e+03 -1.250e+02]\n",
      "  [-3.300e+02 -1.250e+02  3.500e+03]]\n",
      "\n",
      " [[ 1.000e+00  5.000e-01  3.000e-01]\n",
      "  [ 5.000e-01  4.000e+00  5.000e-01]\n",
      "  [ 3.000e-01  5.000e-01  3.000e+00]]]\n"
     ]
    }
   ],
   "source": [
    "# Use parameters from Bovy 2009 as initial velocity distribution.\n",
    "amps_Bovy = gfc.io.load('/disks/strw9/vanweenen/mrp1/gfc/Bovy_parameters/' + 'Bovy_amps.npy')\n",
    "means_Bovy = gfc.io.load('/disks/strw9/vanweenen/mrp1/gfc/Bovy_parameters/' + 'Bovy_means.npy')\n",
    "covs_Bovy = gfc.io.load('/disks/strw9/vanweenen/mrp1/gfc/Bovy_parameters/' + 'Bovy_covs.npy')\n",
    "\n",
    "amps_Bovy /= np.sum(amps_Bovy[:10])\n",
    "\n",
    "K = 10\n",
    "Kmin=1 ; Kmax=20 ; Kstep=1\n",
    "wmin = 0.5 ; wmax=15 ; wstep=1.\n",
    "#wmin = 0.5 ; wmax=5 ; wstep=.25\n",
    "\n",
    "initamps = []\n",
    "initmeans = []\n",
    "initcovs = []\n",
    "\n",
    "for k in range(len(amps_Bovy)):\n",
    "    initamps.append(amps_Bovy[:k+1])\n",
    "    initmeans.append(means_Bovy[:k+1])\n",
    "    initcovs.append(covs_Bovy[:k+1])\n",
    "\n",
    "print len(initamps[K-1])\n",
    "#print initamps, initmeans, initcovs\n",
    "print initamps[K-1], initmeans[K-1], initcovs[K-1]\n",
    "\n",
    "# Simulate velocity for every star\n",
    "component = np.random.choice(K, N, p=initamps[K-1]) #choose component\n",
    "uvw_gal = np.empty([N,3])\n",
    "for i in range(N):\n",
    "    uvw_gal[i] = np.random.multivariate_normal(initmeans[K-1][component[i],:], initcovs[K-1][component[i],:,:])"
   ]
  },
  {
   "cell_type": "code",
   "execution_count": 4,
   "metadata": {
    "collapsed": false
   },
   "outputs": [
    {
     "name": "stdout",
     "output_type": "stream",
     "text": [
      "Transformation to astrometric observables..\n",
      "Simulate measured values..\n"
     ]
    }
   ],
   "source": [
    "# Transform the simulated positions and velocities into astrometric observables and radial velocity in ICRS\n",
    "print \"Transformation to astrometric observables..\"\n",
    "x_icrs, y_icrs, z_icrs = galtoicrs.transformCartesianCoordinates(x_gal, y_gal, z_gal)\n",
    "u_icrs, v_icrs, w_icrs = galtoicrs.transformCartesianCoordinates(uvw_gal[:,0], uvw_gal[:,1], uvw_gal[:,2])\n",
    "alpha, delta, parallax, mura, mudec, vrad = phaseSpaceToAstrometry(x_icrs, y_icrs, z_icrs, u_icrs, v_icrs, w_icrs) #rad, rad, mas, mas/yr, mas/yr, km/s\n",
    "astr_true = np.column_stack((alpha, delta, parallax, mura, mudec, vrad))\n",
    "\n",
    "print \"Simulate measured values..\"\n",
    "#Simulate measured values using measurement errors\n",
    "measurement_error = np.array([0.,0.,0.3,1.,1.,0])\n",
    "measurement_covar = np.diag(measurement_error**2) #measurement errors\n",
    "astr_measured = np.empty([N,6])\n",
    "for i in range(N):\n",
    "    astr_measured[i] = np.random.multivariate_normal(astr_true[i,:], measurement_covar, 1)\n",
    "errors_measured = np.tile(measurement_error, (N,1))\n",
    "corr_measured = np.tile(np.tile([0.],15), (N,1))\n",
    "\n",
    "arr_astr = np.column_stack((astr_measured, errors_measured, corr_measured))\n",
    "labels = ('ra', 'dec', 'parallax', 'pmra', 'pmdec', 'vrad', 'ra_error', 'dec_error', 'parallax_error', 'pmra_error', 'pmdec_error', 'vrad_error', 'ra_dec_corr', 'ra_parallax_corr', 'ra_pmra_corr', 'ra_pmdec_corr', 'ra_vrad_corr', 'dec_parallax_corr', 'dec_pmra_corr', 'dec_pmdec_corr', 'dec_vrad_corr', 'parallax_pmra_corr', 'parallax_pmdec_corr', 'parallax_vrad_corr', 'pmra_pmdec_corr', 'pmra_vrad_corr', 'pmdec_vrad_corr')\n",
    "t_astr=Table(arr_astr, names=labels)"
   ]
  },
  {
   "cell_type": "code",
   "execution_count": 6,
   "metadata": {
    "collapsed": false
   },
   "outputs": [
    {
     "name": "stdout",
     "output_type": "stream",
     "text": [
      "Projection..\n",
      "Transforming to radians for..  ra\n",
      "Transforming to radians for..  ra\n",
      "Transforming to radians for..  dec\n",
      "Transforming to radians for..  dec\n",
      "w\n",
      "pqr\n",
      "R\n",
      "C\n",
      "Q\n",
      "S\n",
      "UVW\n",
      "w\n",
      "pqr\n",
      "R\n",
      "C\n",
      "Q\n",
      "S\n",
      "UVW\n"
     ]
    }
   ],
   "source": [
    "print \"Projection..\"\n",
    "# Calculate the projection matrix analogous to equation (1) in Bovy et al 2009 \n",
    "# (https://ui.adsabs.harvard.edu/#abs/2009ApJ...700.1794B/abstract). Note the different ordering of the\n",
    "# velocity components.\n",
    "t_astr_vrad0 = cp.copy(t_astr)\n",
    "for i in ['ra', 'dec']:\n",
    "    gfc.add_rad(t_astr_vrad0, i, u.rad, u.rad)\n",
    "    gfc.add_rad(t_astr, i, u.rad, u.rad)\n",
    "\n",
    "# Do not give radial velocity data to transformation\n",
    "matrix.transformation(t_astr_vrad0)#, vrad_col = 'vrad')\n",
    "warr_vrad0 = gfc.XD_arr(t_astr_vrad0, \"w\") #icrs\n",
    "wcovar_vrad0 = gfc.XD_arr(t_astr_vrad0, \"S\") ; wcovar_vrad0[:,2,2] = 1e15\n",
    "varr_vrad0 = gfc.XD_arr(t_astr_vrad0, \"UVW\")\n",
    "proj_vrad0 = gfc.XD_arr(t_astr_vrad0, \"R\")\n",
    "\n",
    "# Give radial velocity data to transformation\n",
    "matrix.transformation(t_astr, vrad_col = 'vrad')\n",
    "warr = gfc.XD_arr(t_astr, \"w\") #icrs\n",
    "wcovar = gfc.XD_arr(t_astr, \"S\")\n",
    "varr = gfc.XD_arr(t_astr, \"UVW\")\n",
    "proj = gfc.XD_arr(t_astr, \"R\")"
   ]
  },
  {
   "cell_type": "code",
   "execution_count": null,
   "metadata": {
    "collapsed": false
   },
   "outputs": [
    {
     "data": {
      "image/png": "[encoded data removed]",
      "text/plain": [
       "<matplotlib.figure.Figure at 0x7fa76fde0b10>"
      ]
     },
     "metadata": {},
     "output_type": "display_data"
    }
   ],
   "source": [
    "fig, ax = plt.subplots(1,3, sharey=True, figsize=(9,3))\n",
    "velocities = ('U', 'V', 'W') ; unit = ' (km/s)'\n",
    "for v in range(len(velocities)):\n",
    "    ax[v].hist(varr_vrad0[:,v], bins='auto', normed=True, facecolor='grey', histtype='stepfilled', alpha=0.3, label='varr')\n",
    "    ax[v].hist(uvw_gal[:,v], bins='auto', normed=True, facecolor='black', histtype='stepfilled', alpha=0.5, label='uvwgal')\n",
    "    ax[v].set_xlabel(velocities[v] + unit)\n",
    "    ax[v].legend(loc='upper right', prop={'size': 6})\n",
    "plt.show()"
   ]
  },
  {
   "cell_type": "code",
   "execution_count": null,
   "metadata": {
    "collapsed": false
   },
   "outputs": [
    {
     "name": "stdout",
     "output_type": "stream",
     "text": [
      "Perform XD..\n",
      "1\n",
      "2\n",
      "3\n",
      "4\n",
      "5\n",
      "6\n",
      "7\n",
      "8\n",
      "9\n",
      "10\n",
      "11\n",
      "12\n",
      "13\n",
      "14\n",
      "15\n",
      "16\n",
      "17\n"
     ]
    }
   ],
   "source": [
    "# Perform XD\n",
    "print \"Perform XD..\"\n",
    "# The input to XD are the values of v_alpha*, v_delta, vrad. The other input required is the projection matrix.\n",
    "# The values of v_alpha*, v_delta, vrad are obtained from (alpha, delta, parallax, mura,  mudec, vrad).\n",
    "wrange = np.arange(wmin, wmax + wstep, wstep)**2.\n",
    "Krange = range(Kmin, Kmax + Kstep, Kstep) #Krange from Kmin to Kmax\n",
    "\n",
    "logL, AIC, MDL, amps_test, means_test, covs_test, bestK, bestw = gfc.perform_XD(warr, wcovar, proj, initamps, initmeans, initcovs, wrange, Krange, N)\n",
    "logL_vrad0, AIC_vrad0, MDL_vrad0, amps_test_vrad0, means_test_vrad0, covs_test_vrad0, bestK_vrad0, bestw_vrad0 = gfc.perform_XD(warr_vrad0, wcovar_vrad0, proj, initamps, initmeans, initcovs, wrange, Krange, N)"
   ]
  },
  {
   "cell_type": "code",
   "execution_count": null,
   "metadata": {
    "collapsed": false
   },
   "outputs": [],
   "source": [
    "print \"XD:\"\n",
    "print \"logLikelihood: best K = {0}, best w = {1}\".format(bestK[0], bestw[0])\n",
    "print \"amps: {0}, means: {1}, covs: {2}\".format(amps_test[0], means_test[0], covs_test[0])\n",
    "print \"AIC: best K = {0}, best w = {1}\".format(bestK[1], bestw[1])\n",
    "print \"amps: {0}, means: {1}, covs: {2}\".format(amps_test[1], means_test[1], covs_test[1])\n",
    "print \"MDL: best K = {0}, best w = {1}\".format(bestK[2], bestw[2])\n",
    "print \"amps: {0}, means: {1}, covs: {2}\".format(amps_test[2], means_test[2], covs_test[2])"
   ]
  },
  {
   "cell_type": "code",
   "execution_count": null,
   "metadata": {
    "collapsed": false
   },
   "outputs": [],
   "source": [
    "gfc.io.save_PDFs(amps_test, means_test, covs_test, root_folder + '/vrad/')\n",
    "gfc.io.save_PDFs(amps_test_vrad0, means_test_vrad0, covs_test_vrad0, root_folder + '/vrad0/')"
   ]
  },
  {
   "cell_type": "code",
   "execution_count": null,
   "metadata": {
    "collapsed": false,
    "scrolled": true
   },
   "outputs": [],
   "source": [
    "amps_test, means_test, covs_test = gfc.io.load_PDFs(root_folder + '/vrad/')\n",
    "amps_test_vrad0, means_test_vrad0, covs_test_vrad0 = gfc.io.load_PDFs(root_folder + '/vrad0/')"
   ]
  },
  {
   "cell_type": "code",
   "execution_count": null,
   "metadata": {
    "collapsed": true
   },
   "outputs": [],
   "source": [
    "def plot_normal_PDF(ax, v, x, amps, means, covs, c, l):\n",
    "    pdf = np.zeros(len(x))\n",
    "    for n in range(len(amps)):\n",
    "        pdf += amps[n]*sp.stats.norm.pdf(x, loc=means[n,v], scale=np.sqrt(covs[n,v,v]))\n",
    "    ax.plot(x, pdf, label=l, color=c, lw=.8)\n",
    "\n",
    "def plot_hist_uvw(inita, initm, initc, a_test, m_test, c_test, uvw_data, a_test_vrad0=None, m_test_vrad0=None, c_test_vrad0=None, uvw_data_vrad0=None, *args):\n",
    "    saveto = '/disks/strw9/vanweenen/mrp1/results/'\n",
    "    velocities = ('U', 'V', 'W') ; unit = ' (km/s)'\n",
    "    colors_vrad0 = ('red','dodgerblue','green') ; colors = ('lightcoral', 'skyblue', 'greenyellow')\n",
    "    test = ('logL', 'AIC', 'MDL') ; test_vrad0 = ('logL $v_r = 0$', 'AIC $v_r = 0$', 'MDL $v_r = 0$')\n",
    "    limits = ((-130, 120), (-120,60), (-70,70))\n",
    "    \n",
    "    fig, ax = plt.subplots(len(test), len(velocities), sharey=True, figsize=(9,9), tight_layout=True)\n",
    "    for v in range(len(velocities)):\n",
    "        vrange = np.linspace(limits[v][0], limits[v][1], len(uvw_data[:,v]))\n",
    "        for t in range(len(test)):\n",
    "            plot_normal_PDF(ax[t,v], v, vrange, a_test[t], m_test[t], c_test[t], colors[t], test[t]) #xd fit\n",
    "            if a_test_vrad0 is not None:\n",
    "                plot_normal_PDF(ax[t,v], v, vrange, a_test_vrad0[t], m_test_vrad0[t], c_test_vrad0[t], colors_vrad0[t], test_vrad0[t]) #xd fit without vrad info\n",
    "            plot_normal_PDF(ax[t,v], v, vrange, inita, initm, initc, 'black', 'initial') #curve of initial velocity distribution\n",
    "            ax[t,v].hist(uvw_data[:,v], bins='auto', normed=True, facecolor='black', histtype='stepfilled', alpha=0.3, label='data')\n",
    "            if uvw_data_vrad0 is not None:\n",
    "                ax[t,v].hist(uvw_data_vrad0[:,v], bins='auto', normed=True, facecolor='grey', histtype='stepfilled', alpha=0.15, label='data $v_r = 0$')\n",
    "            ax[t,v].set_xlabel(velocities[v] + unit)\n",
    "            ax[t,v].set_xlim(limits[v])\n",
    "            ax[t,v].legend(loc='upper right', prop={'size': 6})\n",
    "    \n",
    "    suptitle = 'Histogram of velocity in Cartesian coordinates'\n",
    "    filename = '/hist_velocity'\n",
    "    suptitle, filename = gfc.gplot.title_filename(suptitle, filename, *args)\n",
    "    plt.suptitle(suptitle, y=1., fontsize=12)\n",
    "    plt.savefig(saveto + filename)\n",
    "    plt.show()\n",
    "\n",
    "def plot_hist_uvw2(inita, initm, initc, a_test, m_test, c_test, uvw_data, a_test_vrad0=None, m_test_vrad0=None, c_test_vrad0=None, uvw_data_vrad0=None, *args):\n",
    "    saveto = '/disks/strw9/vanweenen/mrp1/results/'\n",
    "    velocities = ('U', 'V', 'W') ; unit = ' (km/s)'\n",
    "    colors_vrad0 = ('red','dodgerblue','green') ; colors = ('lightcoral', 'skyblue', 'greenyellow')\n",
    "    test = ('logL', 'AIC', 'MDL') ; test_vrad0 = ('logL $v_r = 0$', 'AIC $v_r = 0$', 'MDL $v_r = 0$')\n",
    "    limits = ((-130, 120), (-120,60), (-70,70))\n",
    "    \n",
    "    fig, ax = plt.subplots(1, len(velocities), sharey=True, figsize=(9,4), tight_layout=True)\n",
    "    for v in range(len(velocities)):\n",
    "        vrange = np.linspace(limits[v][0], limits[v][1], len(uvw_data[:,v]))\n",
    "        for t in range(len(test)):\n",
    "            plot_normal_PDF(ax[v], v, vrange, a_test[t], m_test[t], c_test[t], colors[t], test[t]) #xd fit\n",
    "            if a_test_vrad0 is not None:\n",
    "                plot_normal_PDF(ax[v], v, vrange, a_test_vrad0[t], m_test_vrad0[t], c_test_vrad0[t], colors_vrad0[t], test_vrad0[t]) #xd fit without vrad info\n",
    "        plot_normal_PDF(ax[v], v, vrange, inita, initm, initc, 'black', 'initial') #curve of initial velocity distribution\n",
    "        ax[v].hist(uvw_data[:,v], bins='auto', normed=True, facecolor='black', histtype='stepfilled', alpha=0.3, label='data')\n",
    "        if uvw_data_vrad0 is not None:\n",
    "            ax[v].hist(uvw_data_vrad0[:,v], bins='auto', normed=True, facecolor='grey', histtype='stepfilled', alpha=0.15, label='data $v_r = 0$')\n",
    "        ax[v].set_xlabel(velocities[v] + unit)\n",
    "        ax[v].set_xlim(limits[v])\n",
    "        ax[v].legend(loc='upper right', prop={'size': 6})\n",
    "    \n",
    "    suptitle = 'Histogram of velocity in Cartesian coordinates'\n",
    "    filename = '/hist_velocity'\n",
    "    suptitle, filename = gfc.gplot.title_filename(suptitle, filename, *args)\n",
    "    plt.suptitle(suptitle, y=1., fontsize=12)\n",
    "    plt.savefig(saveto + filename)\n",
    "    plt.show()\n"
   ]
  },
  {
   "cell_type": "code",
   "execution_count": null,
   "metadata": {
    "collapsed": false,
    "scrolled": true
   },
   "outputs": [],
   "source": [
    "plot_hist_uvw(initamps[K-1], initmeans[K-1], initcovs[K-1], amps_test, means_test, covs_test, varr, amps_test_vrad0, means_test_vrad0, covs_test_vrad0, varr_vrad0, 'Bovy')\n",
    "plot_hist_uvw2(initamps[K-1], initmeans[K-1], initcovs[K-1], amps_test, means_test, covs_test, varr, amps_test_vrad0, means_test_vrad0, covs_test_vrad0, varr_vrad0, 'Bovy')"
   ]
  },
  {
   "cell_type": "code",
   "execution_count": null,
   "metadata": {
    "collapsed": false
   },
   "outputs": [],
   "source": [
    "gfc.gplot.plot_XD_w_K(logL, AIC, MDL, bestK, bestw, False, Kmin, Kmax, wmin, wmax, 'Bovy')\n",
    "gfc.gplot.plot_XD_w_K(logL_vrad0, AIC_vrad0, MDL_vrad0, bestK_vrad0, bestw_vrad0, True, Kmin, Kmax, wmin, wmax, 'Bovy')"
   ]
  },
  {
   "cell_type": "code",
   "execution_count": null,
   "metadata": {
    "collapsed": false
   },
   "outputs": [],
   "source": [
    "def KnownGroups(ax): #before: text\n",
    "    ax.text(60, -90, \"Arcturus\")\n",
    "    ax.plot([8, 57.5], [-105, -90], c='k', lw=2)\n",
    "    ax.text(-80, -110, \"Halo\")\n",
    "    ax.text(50, 40, \"Sirius/UMa\")\n",
    "    ax.plot([49, 5], [40, 5], c='k', lw=2)\n",
    "    ax.text(-100, 45, \"Coma Berenices\")\n",
    "    ax.plot([-70, -10], [42, -5], c='k', lw=2)\n",
    "    ax.text(-120, 34, \"NGC 1901\")\n",
    "    ax.plot([-100, -25], [31, -12], c='k', lw=2)\n",
    "    ax.text(-120, 0, \"Hyades\")\n",
    "    ax.plot([-110, -45], [-3, -17], c='k', lw=2)\n",
    "    ax.text(90, -50, \"Pleiades\")\n",
    "    ax.plot([87, -15], [-45, -20], c='k', lw=2)\n",
    "    ax.text(-125, -42, \"Hercules\")\n",
    "    ax.plot([-93.5, -28], [-40, -42], c='k', lw=2)\n",
    "\n",
    "def totalGaussians(axs, i, j, lsp, amps, means, covs):\n",
    "    levels=np.array([2,6,12,21,33,50,68,80,90,95,99])/100.0\n",
    "    xx, yy = np.meshgrid(lsp[j],lsp[i+1])\n",
    "    pdfxy = np.zeros_like(xx)\n",
    "    m = np.array([means[:,j], means[:,i+1]]).T\n",
    "    c = np.array([[covs[:,j,j],covs[:,j,i+1]], [covs[:,i+1,j],covs[:,i+1,i+1]]]).T\n",
    "    for k in range(len(amps)):\n",
    "        pdfxy = pdfxy + amps[k] * \\\n",
    "        sp.stats.multivariate_normal.pdf(np.dstack((xx,yy)), mean=m[k], cov=c[k])\n",
    "    axs[i+j].contour(lsp[j], lsp[i+1], convert_to_stdev_nan(np.log(pdfxy)), levels=levels, colors='k', linewidths=1)\n",
    "                \n",
    "def set_axes_3velocities(ax, limits):  \n",
    "    velocities = ('U', 'V', 'W') ; unit = ' (km/s)'\n",
    "    xpos = ('top', 'bottom') ; ypos = ('left', 'right')\n",
    "    for i in range(2):\n",
    "        for j in range(2):\n",
    "            if j != i + 1:\n",
    "                ax[i+j].set_xlim(limits[j]) ; ax[i+j].set_ylim(limits[i+1])\n",
    "                ax[i+j].set_xlabel(velocities[j] + unit) ; ax[i+j].set_ylabel(velocities[i+1] + unit)\n",
    "                ax[i+j].xaxis.set_label_position(xpos[i]) ; ax[i+j].yaxis.set_label_position(ypos[j])\n",
    "    ax[0].xaxis.tick_top()\n",
    "    ax[0].set_xticks((-100, -50, 0, 50, 100))\n",
    "    ax[0].set_yticks((-100, -50, 0, 50))\n",
    "    ax[2].yaxis.tick_right()\n",
    "\n",
    "def plot_Gaussian_comps(amps, means, covs, t_uvw, total=False, *args):\n",
    "    saveto = '/disks/strw9/vanweenen/mrp1/results/'\n",
    "    filename = '/PDF'\n",
    "    limits = ((-130, 120), (-120,60), (-70,70)); gs = (251, 181, 161)\n",
    "    if total:\n",
    "        filename += '_total'\n",
    "        title = \"Velocity distribution\"\n",
    "        #levels = np.logspace(-6.,-2.7,10)\n",
    "        lsp = [np.linspace(limits[i][0], limits[i][1], gs[i]) for i in range(3)]\n",
    "    else:\n",
    "        line = (\"xy\", \"xz\", \"yz\") \n",
    "        title = \"Gaussian components of velocity distribution\"\n",
    "    title, filename = gfc.gplot.title_filename(title, filename, *args)\n",
    "    fig = plt.figure(figsize=(8,8))\n",
    "    plt.suptitle(title)\n",
    "    ax = [plt.subplot(2,1,1), plt.subplot(2,2,3), plt.subplot(2,2,4)]\n",
    "    for i in range(2):\n",
    "        for j in range(2):\n",
    "            if j != i +1:\n",
    "                if total:\n",
    "                    totalGaussians(ax, i, j, lsp, amps, means, covs)\n",
    "                else:\n",
    "                    for a, m, c in zip(amps, means, covs):\n",
    "                        gfc.gplot.draw_PDF_ellipse(ax[i+j], a, m, c, line[i+j], edgecolor=\"0.4\")\n",
    "                ax[i+j].hexbin(t_uvw[:,j], t_uvw[:,i+1], gridsize=gs[i+j], bins='log', mincnt=1, alpha=.4, lw=0.)\n",
    "    set_axes_3velocities(ax, limits)    \n",
    "    KnownGroups(ax[0])\n",
    "    fig.savefig(saveto + filename)\n",
    "    plt.show()"
   ]
  },
  {
   "cell_type": "code",
   "execution_count": null,
   "metadata": {
    "collapsed": false,
    "scrolled": true
   },
   "outputs": [],
   "source": [
    "plot_Gaussian_comps(amps_Bovy[:K], means_Bovy[:K], covs_Bovy[:K], uvw_gal, False, 'Bovy')\n",
    "tests = ('XD', 'AIC', 'MDL')\n",
    "for i in range(3):\n",
    "    plot_Gaussian_comps(amps_test_vrad0[i], means_test_vrad0[i], covs_test_vrad0[i], varr, False, 'Bovy', tests[i])"
   ]
  },
  {
   "cell_type": "code",
   "execution_count": null,
   "metadata": {
    "collapsed": false,
    "scrolled": true
   },
   "outputs": [],
   "source": [
    "plot_Gaussian_comps(amps_Bovy[:K], means_Bovy[:K], covs_Bovy[:K], uvw_gal, True, 'Bovy')\n",
    "tests = ('XD', 'AIC', 'MDL')\n",
    "for i in range(3):\n",
    "    plot_Gaussian_comps(amps_test_vrad0[i], means_test_vrad0[i], covs_test_vrad0[i], varr, True, 'Bovy', tests[i])"
   ]
  },
  {
   "cell_type": "code",
   "execution_count": null,
   "metadata": {
    "collapsed": false
   },
   "outputs": [],
   "source": [
    "pdfs_XD = map(gfc.pdf.multivariate, means_test_vrad0[0], covs_test_vrad0[0], amps_test_vrad0[0])\n",
    "pdfs_AIC = map(gfc.pdf.multivariate, means_test_vrad0[1], covs_test_vrad0[1], amps_test_vrad0[1])\n",
    "pdfs_MDL = map(gfc.pdf.multivariate, means_test_vrad0[2], covs_test_vrad0[2], amps_test_vrad0[2])\n",
    "for i,row in enumerate(t_astr_vrad0):\n",
    "    vrad_predicted_XD = gfc.radial_velocity_distribution(pdfs_XD, row[\"ra_rad\"], row[\"dec_rad\"], row[\"parallax\"], row[\"pmra\"], row[\"pmdec\"], row[\"C\"], t_astr['vrad_error'])\n",
    "    print vrad_predicted_XD\n",
    "for i,row in enumerate(t_astr_vrad0):\n",
    "    vrad_predicted_AIC = gfc.radial_velocity_distribution(pdfs_AIC, row[\"ra_rad\"], row[\"dec_rad\"], row[\"parallax\"], row[\"pmra\"], row[\"pmdec\"], row[\"C\"], t_astr['vrad_error'])\n",
    "    print vrad_predicted_AIC\n",
    "for i,row in enumerate(t_astr_vrad0):\n",
    "    vrad_predicted_MDL = gfc.radial_velocity_distribution(pdfs_MDL, row[\"ra_rad\"], row[\"dec_rad\"], row[\"parallax\"], row[\"pmra\"], row[\"pmdec\"], row[\"C\"], t_astr['vrad_error'])\n",
    "    print vrad_predicted_MDL"
   ]
  },
  {
   "cell_type": "code",
   "execution_count": null,
   "metadata": {
    "collapsed": true
   },
   "outputs": [],
   "source": []
  }
 ],
 "metadata": {
  "kernelspec": {
   "display_name": "Python 2",
   "language": "python",
   "name": "python2"
  },
  "language_info": {
   "codemirror_mode": {
    "name": "ipython",
    "version": 2
   },
   "file_extension": ".py",
   "mimetype": "text/x-python",
   "name": "python",
   "nbconvert_exporter": "python",
   "pygments_lexer": "ipython2",
   "version": "2.7.14"
  }
 },
 "nbformat": 4,
 "nbformat_minor": 2
}
